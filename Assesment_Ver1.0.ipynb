{
 "cells": [
  {
   "cell_type": "code",
   "execution_count": 1,
   "id": "2cfe07ce-2541-4d12-85e7-65986d597dc4",
   "metadata": {},
   "outputs": [
    {
     "data": {
      "text/plain": [
       "'C:\\\\Users\\\\suhit'"
      ]
     },
     "execution_count": 1,
     "metadata": {},
     "output_type": "execute_result"
    }
   ],
   "source": [
    "import os\n",
    "os.path.abspath(os.getcwd())"
   ]
  },
  {
   "cell_type": "code",
   "execution_count": 2,
   "id": "12ae1f3e-c6c5-40a1-a4d7-240673fb2197",
   "metadata": {},
   "outputs": [],
   "source": [
    "import numpy as np\n",
    "import pandas as pd"
   ]
  },
  {
   "cell_type": "code",
   "execution_count": 3,
   "id": "e212e1bf-9c5f-431e-b713-6c2ce3a54ce8",
   "metadata": {},
   "outputs": [
    {
     "data": {
      "text/html": [
       "<div>\n",
       "<style scoped>\n",
       "    .dataframe tbody tr th:only-of-type {\n",
       "        vertical-align: middle;\n",
       "    }\n",
       "\n",
       "    .dataframe tbody tr th {\n",
       "        vertical-align: top;\n",
       "    }\n",
       "\n",
       "    .dataframe thead th {\n",
       "        text-align: right;\n",
       "    }\n",
       "</style>\n",
       "<table border=\"1\" class=\"dataframe\">\n",
       "  <thead>\n",
       "    <tr style=\"text-align: right;\">\n",
       "      <th></th>\n",
       "      <th>InvoiceNo</th>\n",
       "      <th>StockCode</th>\n",
       "      <th>Description</th>\n",
       "      <th>Quantity</th>\n",
       "      <th>InvoiceDate</th>\n",
       "      <th>UnitPrice</th>\n",
       "      <th>CustomerID</th>\n",
       "      <th>Country</th>\n",
       "    </tr>\n",
       "  </thead>\n",
       "  <tbody>\n",
       "    <tr>\n",
       "      <th>0</th>\n",
       "      <td>536365</td>\n",
       "      <td>85123A</td>\n",
       "      <td>WHITE HANGING HEART T-LIGHT HOLDER</td>\n",
       "      <td>6</td>\n",
       "      <td>2010-12-01 08:26:00</td>\n",
       "      <td>2.55</td>\n",
       "      <td>17850.0</td>\n",
       "      <td>United Kingdom</td>\n",
       "    </tr>\n",
       "    <tr>\n",
       "      <th>1</th>\n",
       "      <td>536365</td>\n",
       "      <td>71053</td>\n",
       "      <td>WHITE METAL LANTERN</td>\n",
       "      <td>6</td>\n",
       "      <td>2010-12-01 08:26:00</td>\n",
       "      <td>3.39</td>\n",
       "      <td>17850.0</td>\n",
       "      <td>United Kingdom</td>\n",
       "    </tr>\n",
       "    <tr>\n",
       "      <th>2</th>\n",
       "      <td>536365</td>\n",
       "      <td>84406B</td>\n",
       "      <td>CREAM CUPID HEARTS COAT HANGER</td>\n",
       "      <td>8</td>\n",
       "      <td>2010-12-01 08:26:00</td>\n",
       "      <td>2.75</td>\n",
       "      <td>17850.0</td>\n",
       "      <td>United Kingdom</td>\n",
       "    </tr>\n",
       "    <tr>\n",
       "      <th>3</th>\n",
       "      <td>536365</td>\n",
       "      <td>84029G</td>\n",
       "      <td>KNITTED UNION FLAG HOT WATER BOTTLE</td>\n",
       "      <td>6</td>\n",
       "      <td>2010-12-01 08:26:00</td>\n",
       "      <td>3.39</td>\n",
       "      <td>17850.0</td>\n",
       "      <td>United Kingdom</td>\n",
       "    </tr>\n",
       "    <tr>\n",
       "      <th>4</th>\n",
       "      <td>536365</td>\n",
       "      <td>84029E</td>\n",
       "      <td>RED WOOLLY HOTTIE WHITE HEART.</td>\n",
       "      <td>6</td>\n",
       "      <td>2010-12-01 08:26:00</td>\n",
       "      <td>3.39</td>\n",
       "      <td>17850.0</td>\n",
       "      <td>United Kingdom</td>\n",
       "    </tr>\n",
       "  </tbody>\n",
       "</table>\n",
       "</div>"
      ],
      "text/plain": [
       "  InvoiceNo StockCode                          Description  Quantity  \\\n",
       "0    536365    85123A   WHITE HANGING HEART T-LIGHT HOLDER         6   \n",
       "1    536365     71053                  WHITE METAL LANTERN         6   \n",
       "2    536365    84406B       CREAM CUPID HEARTS COAT HANGER         8   \n",
       "3    536365    84029G  KNITTED UNION FLAG HOT WATER BOTTLE         6   \n",
       "4    536365    84029E       RED WOOLLY HOTTIE WHITE HEART.         6   \n",
       "\n",
       "          InvoiceDate  UnitPrice  CustomerID         Country  \n",
       "0 2010-12-01 08:26:00       2.55     17850.0  United Kingdom  \n",
       "1 2010-12-01 08:26:00       3.39     17850.0  United Kingdom  \n",
       "2 2010-12-01 08:26:00       2.75     17850.0  United Kingdom  \n",
       "3 2010-12-01 08:26:00       3.39     17850.0  United Kingdom  \n",
       "4 2010-12-01 08:26:00       3.39     17850.0  United Kingdom  "
      ]
     },
     "execution_count": 3,
     "metadata": {},
     "output_type": "execute_result"
    }
   ],
   "source": [
    "df = pd.read_excel(\"Online Retail.xlsx\")\n",
    "df.head()"
   ]
  },
  {
   "cell_type": "code",
   "execution_count": 4,
   "id": "0fdd71ae-c0fe-43eb-940e-5e5cec6678b0",
   "metadata": {},
   "outputs": [
    {
     "name": "stdout",
     "output_type": "stream",
     "text": [
      "<class 'pandas.core.frame.DataFrame'>\n",
      "RangeIndex: 541909 entries, 0 to 541908\n",
      "Data columns (total 8 columns):\n",
      " #   Column       Non-Null Count   Dtype         \n",
      "---  ------       --------------   -----         \n",
      " 0   InvoiceNo    541909 non-null  object        \n",
      " 1   StockCode    541909 non-null  object        \n",
      " 2   Description  540455 non-null  object        \n",
      " 3   Quantity     541909 non-null  int64         \n",
      " 4   InvoiceDate  541909 non-null  datetime64[ns]\n",
      " 5   UnitPrice    541909 non-null  float64       \n",
      " 6   CustomerID   406829 non-null  float64       \n",
      " 7   Country      541909 non-null  object        \n",
      "dtypes: datetime64[ns](1), float64(2), int64(1), object(4)\n",
      "memory usage: 33.1+ MB\n"
     ]
    }
   ],
   "source": [
    "df.info()"
   ]
  },
  {
   "cell_type": "code",
   "execution_count": 25,
   "id": "2b521617-5191-492b-ba39-a3ac70a6acb8",
   "metadata": {},
   "outputs": [],
   "source": [
    "df = df.dropna(how='any')"
   ]
  },
  {
   "cell_type": "code",
   "execution_count": 26,
   "id": "0d30fe38-0f5c-44cd-a00c-73db3970141c",
   "metadata": {},
   "outputs": [
    {
     "name": "stdout",
     "output_type": "stream",
     "text": [
      "(406829, 8)\n"
     ]
    }
   ],
   "source": [
    "print(df.shape)"
   ]
  },
  {
   "cell_type": "code",
   "execution_count": 27,
   "id": "e2f5756c-61a9-4c1c-b9c6-9204151d4071",
   "metadata": {},
   "outputs": [
    {
     "name": "stdout",
     "output_type": "stream",
     "text": [
      "Index(['InvoiceNo', 'StockCode', 'Description', 'Quantity', 'InvoiceDate',\n",
      "       'UnitPrice', 'CustomerID', 'Country'],\n",
      "      dtype='object')\n"
     ]
    }
   ],
   "source": [
    "print(df.columns)"
   ]
  },
  {
   "cell_type": "code",
   "execution_count": 28,
   "id": "b867421a-6aa4-4ba9-95af-9a2334241509",
   "metadata": {},
   "outputs": [
    {
     "data": {
      "text/plain": [
       "85123A    2077\n",
       "22423     1905\n",
       "85099B    1662\n",
       "84879     1418\n",
       "47566     1416\n",
       "          ... \n",
       "84620        1\n",
       "90038B       1\n",
       "84551        1\n",
       "84614A       1\n",
       "20957        1\n",
       "Name: StockCode, Length: 3684, dtype: int64"
      ]
     },
     "execution_count": 28,
     "metadata": {},
     "output_type": "execute_result"
    }
   ],
   "source": [
    "df[\"StockCode\"].value_counts()"
   ]
  },
  {
   "cell_type": "code",
   "execution_count": 29,
   "id": "f0d300d7-cf63-4f51-8744-228601c848dc",
   "metadata": {},
   "outputs": [
    {
     "data": {
      "text/plain": [
       "WHITE HANGING HEART T-LIGHT HOLDER    2070\n",
       "REGENCY CAKESTAND 3 TIER              1905\n",
       "JUMBO BAG RED RETROSPOT               1662\n",
       "ASSORTED COLOUR BIRD ORNAMENT         1418\n",
       "PARTY BUNTING                         1416\n",
       "                                      ... \n",
       "ANTIQUE RASPBERRY FLOWER EARRINGS        1\n",
       "WALL ART,ONLY ONE PERSON                 1\n",
       "GOLD/AMBER DROP EARRINGS W LEAF          1\n",
       "INCENSE BAZAAR PEACH                     1\n",
       "PINK BAROQUE FLOCK CANDLE HOLDER         1\n",
       "Name: Description, Length: 3896, dtype: int64"
      ]
     },
     "execution_count": 29,
     "metadata": {},
     "output_type": "execute_result"
    }
   ],
   "source": [
    "df[\"Description\"].value_counts()"
   ]
  },
  {
   "cell_type": "code",
   "execution_count": 10,
   "id": "6f2e02c4-4714-4910-b5b0-d9c0677c97ee",
   "metadata": {},
   "outputs": [
    {
     "data": {
      "text/plain": [
       "United Kingdom          361878\n",
       "Germany                   9495\n",
       "France                    8491\n",
       "EIRE                      7485\n",
       "Spain                     2533\n",
       "Netherlands               2371\n",
       "Belgium                   2069\n",
       "Switzerland               1877\n",
       "Portugal                  1480\n",
       "Australia                 1259\n",
       "Norway                    1086\n",
       "Italy                      803\n",
       "Channel Islands            758\n",
       "Finland                    695\n",
       "Cyprus                     622\n",
       "Sweden                     462\n",
       "Austria                    401\n",
       "Denmark                    389\n",
       "Japan                      358\n",
       "Poland                     341\n",
       "USA                        291\n",
       "Israel                     250\n",
       "Unspecified                244\n",
       "Singapore                  229\n",
       "Iceland                    182\n",
       "Canada                     151\n",
       "Greece                     146\n",
       "Malta                      127\n",
       "United Arab Emirates        68\n",
       "European Community          61\n",
       "RSA                         58\n",
       "Lebanon                     45\n",
       "Lithuania                   35\n",
       "Brazil                      32\n",
       "Czech Republic              30\n",
       "Bahrain                     17\n",
       "Saudi Arabia                10\n",
       "Name: Country, dtype: int64"
      ]
     },
     "execution_count": 10,
     "metadata": {},
     "output_type": "execute_result"
    }
   ],
   "source": [
    "df[\"Country\"].value_counts()"
   ]
  },
  {
   "cell_type": "code",
   "execution_count": 11,
   "id": "6ca1e632-6619-4d54-be5e-7bdc33ae7a44",
   "metadata": {},
   "outputs": [
    {
     "name": "stderr",
     "output_type": "stream",
     "text": [
      "C:\\Users\\suhit\\AppData\\Local\\Temp/ipykernel_19936/2478089956.py:1: UserWarning: Boolean Series key will be reindexed to match DataFrame index.\n",
      "  df[df[\"Quantity\"] <= 0][df[\"InvoiceNo\"] ==\"C536379\"]\n"
     ]
    },
    {
     "data": {
      "text/html": [
       "<div>\n",
       "<style scoped>\n",
       "    .dataframe tbody tr th:only-of-type {\n",
       "        vertical-align: middle;\n",
       "    }\n",
       "\n",
       "    .dataframe tbody tr th {\n",
       "        vertical-align: top;\n",
       "    }\n",
       "\n",
       "    .dataframe thead th {\n",
       "        text-align: right;\n",
       "    }\n",
       "</style>\n",
       "<table border=\"1\" class=\"dataframe\">\n",
       "  <thead>\n",
       "    <tr style=\"text-align: right;\">\n",
       "      <th></th>\n",
       "      <th>InvoiceNo</th>\n",
       "      <th>StockCode</th>\n",
       "      <th>Description</th>\n",
       "      <th>Quantity</th>\n",
       "      <th>InvoiceDate</th>\n",
       "      <th>UnitPrice</th>\n",
       "      <th>CustomerID</th>\n",
       "      <th>Country</th>\n",
       "    </tr>\n",
       "  </thead>\n",
       "  <tbody>\n",
       "    <tr>\n",
       "      <th>141</th>\n",
       "      <td>C536379</td>\n",
       "      <td>D</td>\n",
       "      <td>Discount</td>\n",
       "      <td>-1</td>\n",
       "      <td>2010-12-01 09:41:00</td>\n",
       "      <td>27.5</td>\n",
       "      <td>14527.0</td>\n",
       "      <td>United Kingdom</td>\n",
       "    </tr>\n",
       "  </tbody>\n",
       "</table>\n",
       "</div>"
      ],
      "text/plain": [
       "    InvoiceNo StockCode Description  Quantity         InvoiceDate  UnitPrice  \\\n",
       "141   C536379         D    Discount        -1 2010-12-01 09:41:00       27.5   \n",
       "\n",
       "     CustomerID         Country  \n",
       "141     14527.0  United Kingdom  "
      ]
     },
     "execution_count": 11,
     "metadata": {},
     "output_type": "execute_result"
    }
   ],
   "source": [
    "df[df[\"Quantity\"] <= 0][df[\"InvoiceNo\"] ==\"C536379\"]"
   ]
  },
  {
   "cell_type": "code",
   "execution_count": 12,
   "id": "53dce62f-6e46-4555-9f42-a4f3ec910c9f",
   "metadata": {},
   "outputs": [],
   "source": [
    "# Filter all rows for which the quantity is less than 0 \n",
    "df_sales_reversal = df[df['Quantity'] <= 0]"
   ]
  },
  {
   "cell_type": "code",
   "execution_count": 13,
   "id": "4d77d435-1f8b-433e-8ca5-5920f891d7b1",
   "metadata": {},
   "outputs": [
    {
     "name": "stdout",
     "output_type": "stream",
     "text": [
      "2.188880340388714\n"
     ]
    }
   ],
   "source": [
    " \n",
    "# Print the shape of the dataframe\n",
    "print((df_sales_reversal.shape[0]/df.shape[0])*100)"
   ]
  },
  {
   "cell_type": "code",
   "execution_count": 30,
   "id": "9c7648a9-7418-4d34-a034-73638b9e671d",
   "metadata": {},
   "outputs": [],
   "source": [
    "#Only 10624 rows have outlier quantity. Remove these rows from original dataset \n",
    "# Filter all rows for which the quantity is less than 0 \n",
    "df_filtered = df[df['Quantity'] >= 1]\n"
   ]
  },
  {
   "cell_type": "code",
   "execution_count": 6,
   "id": "af6eaca4-3dc5-4f45-b8a7-efed59c88512",
   "metadata": {},
   "outputs": [
    {
     "name": "stdout",
     "output_type": "stream",
     "text": [
      "   InvoiceNo StockCode                          Description  Quantity  \\\n",
      "0     536365    85123A   WHITE HANGING HEART T-LIGHT HOLDER         6   \n",
      "1     536365     71053                  WHITE METAL LANTERN         6   \n",
      "2     536365    84406B       CREAM CUPID HEARTS COAT HANGER         8   \n",
      "3     536365    84029G  KNITTED UNION FLAG HOT WATER BOTTLE         6   \n",
      "4     536365    84029E       RED WOOLLY HOTTIE WHITE HEART.         6   \n",
      "5     536365     22752         SET 7 BABUSHKA NESTING BOXES         2   \n",
      "6     536365     21730    GLASS STAR FROSTED T-LIGHT HOLDER         6   \n",
      "7     536366     22633               HAND WARMER UNION JACK         6   \n",
      "8     536366     22632            HAND WARMER RED POLKA DOT         6   \n",
      "9     536367     84879        ASSORTED COLOUR BIRD ORNAMENT        32   \n",
      "10    536367     22745           POPPY'S PLAYHOUSE BEDROOM          6   \n",
      "11    536367     22748            POPPY'S PLAYHOUSE KITCHEN         6   \n",
      "12    536367     22749    FELTCRAFT PRINCESS CHARLOTTE DOLL         8   \n",
      "13    536367     22310              IVORY KNITTED MUG COSY          6   \n",
      "14    536367     84969   BOX OF 6 ASSORTED COLOUR TEASPOONS         6   \n",
      "\n",
      "           InvoiceDate  UnitPrice  CustomerID         Country  \n",
      "0  2010-12-01 08:26:00       2.55     17850.0  United Kingdom  \n",
      "1  2010-12-01 08:26:00       3.39     17850.0  United Kingdom  \n",
      "2  2010-12-01 08:26:00       2.75     17850.0  United Kingdom  \n",
      "3  2010-12-01 08:26:00       3.39     17850.0  United Kingdom  \n",
      "4  2010-12-01 08:26:00       3.39     17850.0  United Kingdom  \n",
      "5  2010-12-01 08:26:00       7.65     17850.0  United Kingdom  \n",
      "6  2010-12-01 08:26:00       4.25     17850.0  United Kingdom  \n",
      "7  2010-12-01 08:28:00       1.85     17850.0  United Kingdom  \n",
      "8  2010-12-01 08:28:00       1.85     17850.0  United Kingdom  \n",
      "9  2010-12-01 08:34:00       1.69     13047.0  United Kingdom  \n",
      "10 2010-12-01 08:34:00       2.10     13047.0  United Kingdom  \n",
      "11 2010-12-01 08:34:00       2.10     13047.0  United Kingdom  \n",
      "12 2010-12-01 08:34:00       3.75     13047.0  United Kingdom  \n",
      "13 2010-12-01 08:34:00       1.65     13047.0  United Kingdom  \n",
      "14 2010-12-01 08:34:00       4.25     13047.0  United Kingdom  \n",
      "(531285, 8)\n"
     ]
    }
   ],
   "source": [
    "# Print the new dataframe\n",
    "print(df_filtered.head(15))\n",
    "  \n",
    "# Print the shape of the dataframe\n",
    "print(df_filtered.shape)"
   ]
  },
  {
   "cell_type": "code",
   "execution_count": 33,
   "id": "69731e72-faac-4a4e-b765-aa1d99cbfe74",
   "metadata": {},
   "outputs": [
    {
     "name": "stderr",
     "output_type": "stream",
     "text": [
      "C:\\Users\\suhit\\AppData\\Local\\Temp/ipykernel_18852/1940735393.py:1: SettingWithCopyWarning: \n",
      "A value is trying to be set on a copy of a slice from a DataFrame.\n",
      "Try using .loc[row_indexer,col_indexer] = value instead\n",
      "\n",
      "See the caveats in the documentation: https://pandas.pydata.org/pandas-docs/stable/user_guide/indexing.html#returning-a-view-versus-a-copy\n",
      "  df_filtered[\"Total_Cost\"] =  df_filtered[\"Quantity\"]*df_filtered[\"UnitPrice\"]\n"
     ]
    }
   ],
   "source": [
    "df_filtered[\"Total_Cost\"] =  df_filtered[\"Quantity\"]*df_filtered[\"UnitPrice\"]\n",
    "\n",
    "#Group By Country and Description columns \n",
    "#grouped_df = df_filtered.groupby([\"Country\", \"Description\"]) "
   ]
  },
  {
   "cell_type": "code",
   "execution_count": 34,
   "id": "b53fb1dc-1dc1-4544-8a55-83ed9e26a87e",
   "metadata": {},
   "outputs": [
    {
     "name": "stderr",
     "output_type": "stream",
     "text": [
      "C:\\Users\\suhit\\AppData\\Local\\Temp/ipykernel_18852/533162040.py:2: SettingWithCopyWarning: \n",
      "A value is trying to be set on a copy of a slice from a DataFrame.\n",
      "Try using .loc[row_indexer,col_indexer] = value instead\n",
      "\n",
      "See the caveats in the documentation: https://pandas.pydata.org/pandas-docs/stable/user_guide/indexing.html#returning-a-view-versus-a-copy\n",
      "  df_filtered['InvoiceDate'] = pd.to_datetime(df_filtered['InvoiceDate'])\n",
      "C:\\Users\\suhit\\AppData\\Local\\Temp/ipykernel_18852/533162040.py:3: SettingWithCopyWarning: \n",
      "A value is trying to be set on a copy of a slice from a DataFrame.\n",
      "Try using .loc[row_indexer,col_indexer] = value instead\n",
      "\n",
      "See the caveats in the documentation: https://pandas.pydata.org/pandas-docs/stable/user_guide/indexing.html#returning-a-view-versus-a-copy\n",
      "  df_filtered[\"InvoiceYearMonth\"] = df_filtered['InvoiceDate'].dt.year.astype(str) + \"-\" + df_filtered['InvoiceDate'].dt.month.astype(str)\n"
     ]
    }
   ],
   "source": [
    "# Create a Month column from Invoice Date \n",
    "df_filtered['InvoiceDate'] = pd.to_datetime(df_filtered['InvoiceDate'])\n",
    "df_filtered[\"InvoiceYearMonth\"] = df_filtered['InvoiceDate'].dt.year.astype(str) + \"-\" + df_filtered['InvoiceDate'].dt.month.astype(str)\n",
    "#df['StartDate'].dt.year.astype(str) + \"-\" + df['StartDate'].dt.month.astype(str)\n"
   ]
  },
  {
   "cell_type": "code",
   "execution_count": 35,
   "id": "38c6933b-5db7-45c3-944d-9fe9d5288dcf",
   "metadata": {},
   "outputs": [
    {
     "data": {
      "text/html": [
       "<div>\n",
       "<style scoped>\n",
       "    .dataframe tbody tr th:only-of-type {\n",
       "        vertical-align: middle;\n",
       "    }\n",
       "\n",
       "    .dataframe tbody tr th {\n",
       "        vertical-align: top;\n",
       "    }\n",
       "\n",
       "    .dataframe thead th {\n",
       "        text-align: right;\n",
       "    }\n",
       "</style>\n",
       "<table border=\"1\" class=\"dataframe\">\n",
       "  <thead>\n",
       "    <tr style=\"text-align: right;\">\n",
       "      <th></th>\n",
       "      <th>InvoiceNo</th>\n",
       "      <th>StockCode</th>\n",
       "      <th>Description</th>\n",
       "      <th>Quantity</th>\n",
       "      <th>InvoiceDate</th>\n",
       "      <th>UnitPrice</th>\n",
       "      <th>CustomerID</th>\n",
       "      <th>Country</th>\n",
       "      <th>Total_Cost</th>\n",
       "      <th>InvoiceYearMonth</th>\n",
       "    </tr>\n",
       "  </thead>\n",
       "  <tbody>\n",
       "    <tr>\n",
       "      <th>0</th>\n",
       "      <td>536365</td>\n",
       "      <td>85123A</td>\n",
       "      <td>WHITE HANGING HEART T-LIGHT HOLDER</td>\n",
       "      <td>6</td>\n",
       "      <td>2010-12-01 08:26:00</td>\n",
       "      <td>2.55</td>\n",
       "      <td>17850.0</td>\n",
       "      <td>United Kingdom</td>\n",
       "      <td>15.30</td>\n",
       "      <td>2010-12</td>\n",
       "    </tr>\n",
       "    <tr>\n",
       "      <th>1</th>\n",
       "      <td>536365</td>\n",
       "      <td>71053</td>\n",
       "      <td>WHITE METAL LANTERN</td>\n",
       "      <td>6</td>\n",
       "      <td>2010-12-01 08:26:00</td>\n",
       "      <td>3.39</td>\n",
       "      <td>17850.0</td>\n",
       "      <td>United Kingdom</td>\n",
       "      <td>20.34</td>\n",
       "      <td>2010-12</td>\n",
       "    </tr>\n",
       "    <tr>\n",
       "      <th>2</th>\n",
       "      <td>536365</td>\n",
       "      <td>84406B</td>\n",
       "      <td>CREAM CUPID HEARTS COAT HANGER</td>\n",
       "      <td>8</td>\n",
       "      <td>2010-12-01 08:26:00</td>\n",
       "      <td>2.75</td>\n",
       "      <td>17850.0</td>\n",
       "      <td>United Kingdom</td>\n",
       "      <td>22.00</td>\n",
       "      <td>2010-12</td>\n",
       "    </tr>\n",
       "    <tr>\n",
       "      <th>3</th>\n",
       "      <td>536365</td>\n",
       "      <td>84029G</td>\n",
       "      <td>KNITTED UNION FLAG HOT WATER BOTTLE</td>\n",
       "      <td>6</td>\n",
       "      <td>2010-12-01 08:26:00</td>\n",
       "      <td>3.39</td>\n",
       "      <td>17850.0</td>\n",
       "      <td>United Kingdom</td>\n",
       "      <td>20.34</td>\n",
       "      <td>2010-12</td>\n",
       "    </tr>\n",
       "    <tr>\n",
       "      <th>4</th>\n",
       "      <td>536365</td>\n",
       "      <td>84029E</td>\n",
       "      <td>RED WOOLLY HOTTIE WHITE HEART.</td>\n",
       "      <td>6</td>\n",
       "      <td>2010-12-01 08:26:00</td>\n",
       "      <td>3.39</td>\n",
       "      <td>17850.0</td>\n",
       "      <td>United Kingdom</td>\n",
       "      <td>20.34</td>\n",
       "      <td>2010-12</td>\n",
       "    </tr>\n",
       "    <tr>\n",
       "      <th>...</th>\n",
       "      <td>...</td>\n",
       "      <td>...</td>\n",
       "      <td>...</td>\n",
       "      <td>...</td>\n",
       "      <td>...</td>\n",
       "      <td>...</td>\n",
       "      <td>...</td>\n",
       "      <td>...</td>\n",
       "      <td>...</td>\n",
       "      <td>...</td>\n",
       "    </tr>\n",
       "    <tr>\n",
       "      <th>541904</th>\n",
       "      <td>581587</td>\n",
       "      <td>22613</td>\n",
       "      <td>PACK OF 20 SPACEBOY NAPKINS</td>\n",
       "      <td>12</td>\n",
       "      <td>2011-12-09 12:50:00</td>\n",
       "      <td>0.85</td>\n",
       "      <td>12680.0</td>\n",
       "      <td>France</td>\n",
       "      <td>10.20</td>\n",
       "      <td>2011-12</td>\n",
       "    </tr>\n",
       "    <tr>\n",
       "      <th>541905</th>\n",
       "      <td>581587</td>\n",
       "      <td>22899</td>\n",
       "      <td>CHILDREN'S APRON DOLLY GIRL</td>\n",
       "      <td>6</td>\n",
       "      <td>2011-12-09 12:50:00</td>\n",
       "      <td>2.10</td>\n",
       "      <td>12680.0</td>\n",
       "      <td>France</td>\n",
       "      <td>12.60</td>\n",
       "      <td>2011-12</td>\n",
       "    </tr>\n",
       "    <tr>\n",
       "      <th>541906</th>\n",
       "      <td>581587</td>\n",
       "      <td>23254</td>\n",
       "      <td>CHILDRENS CUTLERY DOLLY GIRL</td>\n",
       "      <td>4</td>\n",
       "      <td>2011-12-09 12:50:00</td>\n",
       "      <td>4.15</td>\n",
       "      <td>12680.0</td>\n",
       "      <td>France</td>\n",
       "      <td>16.60</td>\n",
       "      <td>2011-12</td>\n",
       "    </tr>\n",
       "    <tr>\n",
       "      <th>541907</th>\n",
       "      <td>581587</td>\n",
       "      <td>23255</td>\n",
       "      <td>CHILDRENS CUTLERY CIRCUS PARADE</td>\n",
       "      <td>4</td>\n",
       "      <td>2011-12-09 12:50:00</td>\n",
       "      <td>4.15</td>\n",
       "      <td>12680.0</td>\n",
       "      <td>France</td>\n",
       "      <td>16.60</td>\n",
       "      <td>2011-12</td>\n",
       "    </tr>\n",
       "    <tr>\n",
       "      <th>541908</th>\n",
       "      <td>581587</td>\n",
       "      <td>22138</td>\n",
       "      <td>BAKING SET 9 PIECE RETROSPOT</td>\n",
       "      <td>3</td>\n",
       "      <td>2011-12-09 12:50:00</td>\n",
       "      <td>4.95</td>\n",
       "      <td>12680.0</td>\n",
       "      <td>France</td>\n",
       "      <td>14.85</td>\n",
       "      <td>2011-12</td>\n",
       "    </tr>\n",
       "  </tbody>\n",
       "</table>\n",
       "<p>397924 rows × 10 columns</p>\n",
       "</div>"
      ],
      "text/plain": [
       "       InvoiceNo StockCode                          Description  Quantity  \\\n",
       "0         536365    85123A   WHITE HANGING HEART T-LIGHT HOLDER         6   \n",
       "1         536365     71053                  WHITE METAL LANTERN         6   \n",
       "2         536365    84406B       CREAM CUPID HEARTS COAT HANGER         8   \n",
       "3         536365    84029G  KNITTED UNION FLAG HOT WATER BOTTLE         6   \n",
       "4         536365    84029E       RED WOOLLY HOTTIE WHITE HEART.         6   \n",
       "...          ...       ...                                  ...       ...   \n",
       "541904    581587     22613          PACK OF 20 SPACEBOY NAPKINS        12   \n",
       "541905    581587     22899         CHILDREN'S APRON DOLLY GIRL          6   \n",
       "541906    581587     23254        CHILDRENS CUTLERY DOLLY GIRL          4   \n",
       "541907    581587     23255      CHILDRENS CUTLERY CIRCUS PARADE         4   \n",
       "541908    581587     22138        BAKING SET 9 PIECE RETROSPOT          3   \n",
       "\n",
       "               InvoiceDate  UnitPrice  CustomerID         Country  Total_Cost  \\\n",
       "0      2010-12-01 08:26:00       2.55     17850.0  United Kingdom       15.30   \n",
       "1      2010-12-01 08:26:00       3.39     17850.0  United Kingdom       20.34   \n",
       "2      2010-12-01 08:26:00       2.75     17850.0  United Kingdom       22.00   \n",
       "3      2010-12-01 08:26:00       3.39     17850.0  United Kingdom       20.34   \n",
       "4      2010-12-01 08:26:00       3.39     17850.0  United Kingdom       20.34   \n",
       "...                    ...        ...         ...             ...         ...   \n",
       "541904 2011-12-09 12:50:00       0.85     12680.0          France       10.20   \n",
       "541905 2011-12-09 12:50:00       2.10     12680.0          France       12.60   \n",
       "541906 2011-12-09 12:50:00       4.15     12680.0          France       16.60   \n",
       "541907 2011-12-09 12:50:00       4.15     12680.0          France       16.60   \n",
       "541908 2011-12-09 12:50:00       4.95     12680.0          France       14.85   \n",
       "\n",
       "       InvoiceYearMonth  \n",
       "0               2010-12  \n",
       "1               2010-12  \n",
       "2               2010-12  \n",
       "3               2010-12  \n",
       "4               2010-12  \n",
       "...                 ...  \n",
       "541904          2011-12  \n",
       "541905          2011-12  \n",
       "541906          2011-12  \n",
       "541907          2011-12  \n",
       "541908          2011-12  \n",
       "\n",
       "[397924 rows x 10 columns]"
      ]
     },
     "execution_count": 35,
     "metadata": {},
     "output_type": "execute_result"
    }
   ],
   "source": [
    "df_filtered"
   ]
  },
  {
   "cell_type": "code",
   "execution_count": 36,
   "id": "3cb59fc7-91ee-4ff8-a336-36b42efd1901",
   "metadata": {},
   "outputs": [
    {
     "data": {
      "text/html": [
       "<div>\n",
       "<style scoped>\n",
       "    .dataframe tbody tr th:only-of-type {\n",
       "        vertical-align: middle;\n",
       "    }\n",
       "\n",
       "    .dataframe tbody tr th {\n",
       "        vertical-align: top;\n",
       "    }\n",
       "\n",
       "    .dataframe thead th {\n",
       "        text-align: right;\n",
       "    }\n",
       "</style>\n",
       "<table border=\"1\" class=\"dataframe\">\n",
       "  <thead>\n",
       "    <tr style=\"text-align: right;\">\n",
       "      <th></th>\n",
       "      <th>InvoiceNo</th>\n",
       "    </tr>\n",
       "    <tr>\n",
       "      <th>Description</th>\n",
       "      <th></th>\n",
       "    </tr>\n",
       "  </thead>\n",
       "  <tbody>\n",
       "    <tr>\n",
       "      <th>WHITE HANGING HEART T-LIGHT HOLDER</th>\n",
       "      <td>2028</td>\n",
       "    </tr>\n",
       "    <tr>\n",
       "      <th>REGENCY CAKESTAND 3 TIER</th>\n",
       "      <td>1724</td>\n",
       "    </tr>\n",
       "    <tr>\n",
       "      <th>JUMBO BAG RED RETROSPOT</th>\n",
       "      <td>1618</td>\n",
       "    </tr>\n",
       "    <tr>\n",
       "      <th>ASSORTED COLOUR BIRD ORNAMENT</th>\n",
       "      <td>1408</td>\n",
       "    </tr>\n",
       "    <tr>\n",
       "      <th>PARTY BUNTING</th>\n",
       "      <td>1397</td>\n",
       "    </tr>\n",
       "    <tr>\n",
       "      <th>LUNCH BAG RED RETROSPOT</th>\n",
       "      <td>1316</td>\n",
       "    </tr>\n",
       "    <tr>\n",
       "      <th>SET OF 3 CAKE TINS PANTRY DESIGN</th>\n",
       "      <td>1159</td>\n",
       "    </tr>\n",
       "    <tr>\n",
       "      <th>LUNCH BAG  BLACK SKULL.</th>\n",
       "      <td>1105</td>\n",
       "    </tr>\n",
       "    <tr>\n",
       "      <th>POSTAGE</th>\n",
       "      <td>1099</td>\n",
       "    </tr>\n",
       "    <tr>\n",
       "      <th>PACK OF 72 RETROSPOT CAKE CASES</th>\n",
       "      <td>1068</td>\n",
       "    </tr>\n",
       "  </tbody>\n",
       "</table>\n",
       "</div>"
      ],
      "text/plain": [
       "                                    InvoiceNo\n",
       "Description                                  \n",
       "WHITE HANGING HEART T-LIGHT HOLDER       2028\n",
       "REGENCY CAKESTAND 3 TIER                 1724\n",
       "JUMBO BAG RED RETROSPOT                  1618\n",
       "ASSORTED COLOUR BIRD ORNAMENT            1408\n",
       "PARTY BUNTING                            1397\n",
       "LUNCH BAG RED RETROSPOT                  1316\n",
       "SET OF 3 CAKE TINS PANTRY DESIGN         1159\n",
       "LUNCH BAG  BLACK SKULL.                  1105\n",
       "POSTAGE                                  1099\n",
       "PACK OF 72 RETROSPOT CAKE CASES          1068"
      ]
     },
     "execution_count": 36,
     "metadata": {},
     "output_type": "execute_result"
    }
   ],
   "source": [
    "table = pd.pivot_table(data=df_filtered,index='Description',values='InvoiceNo',aggfunc='count')\n",
    "table\n",
    "s_temp = table.sort_values(by=['InvoiceNo'],ascending=False) \n",
    "#table.Description.sort_values(ascending=False)\n",
    "\n",
    "# Get the top ten values\n",
    "s_top = s_temp.head(10)\n",
    "s_top\n"
   ]
  },
  {
   "cell_type": "code",
   "execution_count": 37,
   "id": "84c31a76-703e-4e66-92cf-c0d220af0a89",
   "metadata": {},
   "outputs": [
    {
     "data": {
      "image/png": "[encoded data removed]",
      "text/plain": [
       "<Figure size 576x396 with 1 Axes>"
      ]
     },
     "metadata": {},
     "output_type": "display_data"
    }
   ],
   "source": [
    "import matplotlib.pyplot as plt \n",
    "plt.style.use('seaborn')\n",
    "#bar graph\n",
    "plt.bar(s_top.index,s_top['InvoiceNo'])\n",
    "\n",
    "#xticks \n",
    "plt.xticks(rotation=70) \n",
    "\n",
    "#x-axis labels \n",
    "plt.xlabel('Item') \n",
    "\n",
    "#y-axis labels \n",
    "plt.ylabel('Quantity sold') \n",
    "\n",
    "#plot title \n",
    "plt.title('Most Popular Items') \n",
    "\n",
    "#save plot \n",
    "plt.savefig('matplotlib_plotting_1.png',dpi=300,bbox_inches='tight') \n",
    "\n",
    "#display plot \n",
    "plt.show();"
   ]
  },
  {
   "cell_type": "code",
   "execution_count": 21,
   "id": "a8c07a28-ef9e-4979-b865-5d3bee7fd4f6",
   "metadata": {},
   "outputs": [
    {
     "data": {
      "text/html": [
       "<div>\n",
       "<style scoped>\n",
       "    .dataframe tbody tr th:only-of-type {\n",
       "        vertical-align: middle;\n",
       "    }\n",
       "\n",
       "    .dataframe tbody tr th {\n",
       "        vertical-align: top;\n",
       "    }\n",
       "\n",
       "    .dataframe thead th {\n",
       "        text-align: right;\n",
       "    }\n",
       "</style>\n",
       "<table border=\"1\" class=\"dataframe\">\n",
       "  <thead>\n",
       "    <tr style=\"text-align: right;\">\n",
       "      <th></th>\n",
       "      <th>Total_Cost</th>\n",
       "    </tr>\n",
       "    <tr>\n",
       "      <th>InvoiceYearMonth</th>\n",
       "      <th></th>\n",
       "    </tr>\n",
       "  </thead>\n",
       "  <tbody>\n",
       "    <tr>\n",
       "      <th>2010-12</th>\n",
       "      <td>572713.890</td>\n",
       "    </tr>\n",
       "    <tr>\n",
       "      <th>2011-1</th>\n",
       "      <td>569445.040</td>\n",
       "    </tr>\n",
       "    <tr>\n",
       "      <th>2011-10</th>\n",
       "      <td>1039318.790</td>\n",
       "    </tr>\n",
       "    <tr>\n",
       "      <th>2011-11</th>\n",
       "      <td>1161817.380</td>\n",
       "    </tr>\n",
       "    <tr>\n",
       "      <th>2011-12</th>\n",
       "      <td>518192.790</td>\n",
       "    </tr>\n",
       "    <tr>\n",
       "      <th>2011-2</th>\n",
       "      <td>447137.350</td>\n",
       "    </tr>\n",
       "    <tr>\n",
       "      <th>2011-3</th>\n",
       "      <td>595500.760</td>\n",
       "    </tr>\n",
       "    <tr>\n",
       "      <th>2011-4</th>\n",
       "      <td>469200.361</td>\n",
       "    </tr>\n",
       "    <tr>\n",
       "      <th>2011-5</th>\n",
       "      <td>678594.560</td>\n",
       "    </tr>\n",
       "    <tr>\n",
       "      <th>2011-6</th>\n",
       "      <td>661213.690</td>\n",
       "    </tr>\n",
       "    <tr>\n",
       "      <th>2011-7</th>\n",
       "      <td>600091.011</td>\n",
       "    </tr>\n",
       "    <tr>\n",
       "      <th>2011-8</th>\n",
       "      <td>645343.900</td>\n",
       "    </tr>\n",
       "    <tr>\n",
       "      <th>2011-9</th>\n",
       "      <td>952838.382</td>\n",
       "    </tr>\n",
       "  </tbody>\n",
       "</table>\n",
       "</div>"
      ],
      "text/plain": [
       "                   Total_Cost\n",
       "InvoiceYearMonth             \n",
       "2010-12            572713.890\n",
       "2011-1             569445.040\n",
       "2011-10           1039318.790\n",
       "2011-11           1161817.380\n",
       "2011-12            518192.790\n",
       "2011-2             447137.350\n",
       "2011-3             595500.760\n",
       "2011-4             469200.361\n",
       "2011-5             678594.560\n",
       "2011-6             661213.690\n",
       "2011-7             600091.011\n",
       "2011-8             645343.900\n",
       "2011-9             952838.382"
      ]
     },
     "execution_count": 21,
     "metadata": {},
     "output_type": "execute_result"
    }
   ],
   "source": [
    "table = pd.pivot_table(data=df_filtered,index='InvoiceYearMonth',values='Total_Cost',aggfunc='sum')\n",
    "table"
   ]
  },
  {
   "cell_type": "code",
   "execution_count": null,
   "id": "696a5048-f829-4c59-a350-32dbcf7f6743",
   "metadata": {},
   "outputs": [],
   "source": [
    "plt.style.use('seaborn')\n",
    "#bar graph\n",
    "plt.bar(df_filtered[\"InvoiceYearMonth\"], df_filtered[\"Total_Cost\"])\n",
    "#xticks \n",
    "plt.xticks(rotation=70) \n",
    "\n",
    "#x-axis labels \n",
    "plt.xlabel('YearMonth') \n",
    "\n",
    "#y-axis labels \n",
    "plt.ylabel('Total Sales') \n",
    "\n",
    "#plot title \n",
    "plt.title('Sales Distribution by Year Month') \n",
    "\n",
    "#save plot \n",
    "plt.savefig('matplotlib_plotting_2.png',dpi=300,bbox_inches='tight') \n",
    "\n",
    "#display plot \n",
    "plt.show();"
   ]
  },
  {
   "cell_type": "code",
   "execution_count": null,
   "id": "35f80f22-ff33-42d1-bc6e-c1123fc4cd9e",
   "metadata": {},
   "outputs": [],
   "source": [
    "#2011-08 looks abnormal\n",
    "df_filtered = df_filtered[df_filtered['InvoiceYearMonth'] == \"2011-08\"]"
   ]
  },
  {
   "cell_type": "code",
   "execution_count": null,
   "id": "16aae03b-d48d-473e-9250-c2d61781e4d2",
   "metadata": {},
   "outputs": [],
   "source": [
    "df_filtered"
   ]
  },
  {
   "cell_type": "code",
   "execution_count": null,
   "id": "afac7389-ef63-422d-b8fe-59e8a7fe3b6e",
   "metadata": {},
   "outputs": [],
   "source": [
    "plt.style.use('seaborn')\n",
    "#bar graph\n",
    "plt.bar(df_filtered[\"Country\"], df_filtered[\"Total_Cost\"])\n",
    "#xticks \n",
    "plt.xticks(rotation=70) \n",
    "\n",
    "#x-axis labels \n",
    "plt.xlabel('Country') \n",
    "\n",
    "#y-axis labels \n",
    "plt.ylabel('Total Sales') \n",
    "\n",
    "#plot title \n",
    "plt.title('Sales Distribution by Country') \n",
    "\n",
    "#save plot \n",
    "plt.savefig('matplotlib_plotting_2.png',dpi=300,bbox_inches='tight') \n",
    "\n",
    "#display plot \n",
    "plt.show();"
   ]
  },
  {
   "cell_type": "code",
   "execution_count": null,
   "id": "a599ae67-da7a-4620-9f5a-f2739da4f2d2",
   "metadata": {},
   "outputs": [],
   "source": [
    "# Import country by economy; The data is sourced from World Bank;\n",
    "df_GDP = pd.read_excel(\"Country_GDP.xlsx\")\n",
    "df_GDP.head()"
   ]
  },
  {
   "cell_type": "code",
   "execution_count": null,
   "id": "1ec2b901-3990-4ca8-8a45-004d36c2df8c",
   "metadata": {},
   "outputs": [],
   "source": [
    "# Join GDP data with sales data based on Country columns from both sides to get the GDP Size and Rank of the country by size\n",
    "merged_df = pd.merge(df_filtered, df_GDP, left_on = \"Country\", right_on = \"Economy\")\n",
    "merged_df"
   ]
  },
  {
   "cell_type": "code",
   "execution_count": null,
   "id": "6ed50290-4570-4b87-b14f-047c1a9130cb",
   "metadata": {},
   "outputs": [],
   "source": [
    "#table_country_rank = pd.pivot_table(data=merged_df,index='Ranking',values='Total_Cost',aggfunc='sum')\n",
    "#table_country_rank\n",
    "grouped_by_rank = merged_df.groupby(\"Ranking\", axis=\"columns\")\n",
    "grouped_by_rank"
   ]
  },
  {
   "cell_type": "code",
   "execution_count": null,
   "id": "c364915a-7816-4de6-81ca-f7687a4e4652",
   "metadata": {},
   "outputs": [],
   "source": [
    "import matplotlib.pyplot as plt \n",
    "plt.style.use('seaborn')\n",
    "\n",
    "#bar graph\n",
    "plt.bar(merged_df[\"Ranking\"], merged_df[\"Total_Cost\"])\n",
    "#xticks \n",
    "plt.xticks(rotation=70) \n",
    "\n",
    "#x-axis labels \n",
    "plt.xlabel('YearMonth') \n",
    "\n",
    "#y-axis labels \n",
    "plt.ylabel('Ranking') \n",
    "\n",
    "#plot title \n",
    "plt.title('Sales Distribution by Country Ranking') \n",
    "\n",
    "#save plot \n",
    "#plt.savefig('matplotlib_plotting_4.png',dpi=300,bbox_inches='tight') \n",
    "\n",
    "#display plot \n",
    "plt.show();"
   ]
  },
  {
   "cell_type": "code",
   "execution_count": null,
   "id": "093a8315-af8d-4dc1-8195-ca6ea89f4a38",
   "metadata": {},
   "outputs": [],
   "source": [
    "merged_df.plot.scatter(x=\"UnitPrice\", y=\"Quantity\", color=\"DarkGreen\", label=\"Group 2\");"
   ]
  },
  {
   "cell_type": "code",
   "execution_count": null,
   "id": "1f2cdbf9-82bf-4477-8cfb-5aca64a5f1c9",
   "metadata": {},
   "outputs": [],
   "source": [
    "plt.figure();\n",
    "\n",
    "#merged_df[\"Quantity\"].plot.hist(orientation=\"horizontal\", cumulative=True);\n",
    "merged_df[\"Total_Cost\"].diff().hist(color=\"k\", alpha=0.5);"
   ]
  },
  {
   "cell_type": "code",
   "execution_count": null,
   "id": "89f67c1f-eb88-465e-bdea-74a576bc39eb",
   "metadata": {},
   "outputs": [],
   "source": [
    "import requests\n",
    "\n",
    "# Where USD is the base currency you want to use\n",
    "url = 'https://v6.exchangerate-api.com/v6/8979974c5a2aa738e7839189/latest/USD'\n",
    "#https://v6.exchangerate-api.com/v6/8979974c5a2aa738e7839189/latest/USD\n",
    "\n",
    "# Making our request\n",
    "response = requests.get(url)\n",
    "data = response.text\n",
    "\n",
    "# Your JSON object\n",
    "print (data)"
   ]
  },
  {
   "cell_type": "code",
   "execution_count": null,
   "id": "dcf82d0b-ca12-4b43-8559-45590c4043d1",
   "metadata": {},
   "outputs": [],
   "source": [
    "import json\n",
    "\n",
    "conversion_rates = json.loads(data)\n",
    "print(conversion_rates)\n",
    "if \"USD\" in conversion_rates['conversion_rates']:\n",
    "    print(conversion_rates['conversion_rates'][\"USD\"])\n",
    "    #print(student[\"name\"], \"marks is: \", student[\"percentage\"])\n",
    "else:\n",
    "    print(\"Key doesn't exist in JSON data\")\n",
    " \n"
   ]
  },
  {
   "cell_type": "code",
   "execution_count": null,
   "id": "2a301710-3615-4166-bb05-feb2c805a0f2",
   "metadata": {},
   "outputs": [],
   "source": [
    "# Function to get exchnage rate for a given currency \n",
    "def getexchangerate(x):\n",
    "    conversion_rates = json.loads(data)\n",
    "    #print(conversion_rates)\n",
    "    if x in conversion_rates['conversion_rates']:\n",
    "        return conversion_rates['conversion_rates'][x]\n",
    "        #print(student[\"name\"], \"marks is: \", student[\"percentage\"])\n",
    "    else:\n",
    "        return 0     \n",
    " "
   ]
  },
  {
   "cell_type": "code",
   "execution_count": null,
   "id": "6558e4fc-ac86-489b-ab73-820106d94b80",
   "metadata": {},
   "outputs": [],
   "source": [
    "#Calling the function to get exchange rate for a specific currency - \"USD\"\n",
    "x = getexchangerate(\"INR\")\n",
    "print (x)"
   ]
  },
  {
   "cell_type": "code",
   "execution_count": null,
   "id": "20240e5e-eec3-44a2-ae8d-323854366bb7",
   "metadata": {},
   "outputs": [],
   "source": [
    "#Calling the function to get exchange rate for a specific currency - \"USD\"\n",
    "x = getexchangerate(\"ABC\")\n",
    "print (x)"
   ]
  },
  {
   "cell_type": "code",
   "execution_count": null,
   "id": "11518b58-2df8-4d04-988c-698be0c89986",
   "metadata": {},
   "outputs": [],
   "source": [
    "import seaborn as sns\n",
    "\n",
    "sns.set_theme(style=\"darkgrid\")\n",
    "#df = sns.load_dataset(\"penguins\")\n",
    "sns.displot(\n",
    "    df_filtered, x=\"Total_Cost\", col=\"InvoiceYearMonth\", row=\"Country\",\n",
    "    binwidth=3, height=3, facet_kws=dict(margin_titles=True),\n",
    ")"
   ]
  },
  {
   "cell_type": "code",
   "execution_count": null,
   "id": "54271fe3",
   "metadata": {},
   "outputs": [],
   "source": [
    "import matplotlib.pyplot as plt\n",
    "import seaborn as sns\n",
    "sns.set_theme()\n",
    "\n",
    "# Load the example flights dataset and convert to long-form\n",
    "sales_long = df_filtered.head(100)\n",
    "sales_subset = \n",
    "sns.displot(\n",
    "    sales_long, x=\"Total_Cost\", col=\"InvoiceYearMonth\", row=\"Description\",\n",
    "    binwidth=3, height=3, facet_kws=dict(margin_titles=True),\n",
    ")\n",
    "\n"
   ]
  },
  {
   "cell_type": "code",
   "execution_count": null,
   "id": "6d95e605",
   "metadata": {},
   "outputs": [],
   "source": [
    "import seaborn as sns\n",
    "sns.set_theme(style=\"ticks\")\n",
    "\n",
    "df = sales_long[[\"Quantity\",\"UnitPrice\",\"Country\"]]\n",
    "sns.pairplot(df, hue=\"Country\")"
   ]
  },
  {
   "cell_type": "code",
   "execution_count": null,
   "id": "a70a1fde",
   "metadata": {},
   "outputs": [],
   "source": [
    "import seaborn as sns\n",
    "sns.set_theme(style=\"whitegrid\")\n",
    "\n",
    "#penguins = sns.load_dataset(\"penguins\")\n",
    "#df = df_filtered.head(800)\n",
    "df_filtered = df_filtered.head(100000)\n",
    "# Interested only in alarm clocks\n",
    "df_alarmclock = df_filtered[df_filtered['Description'].str.contains(\"ALARM CLOCK\")] \n",
    "        # | df['Description'].str.contains('MIT')] \n",
    "# Draw a nested barplot by species and sex\n",
    "g = sns.catplot(\n",
    "    data=df_alarmclock, kind=\"bar\",\n",
    "    x=\"Country\", y=\"Total_Cost\", hue=\"Description\",\n",
    "    ci=\"sd\", palette=\"dark\", alpha=.6, height=6\n",
    ")\n",
    "g.despine(left=True)\n",
    "g.set_axis_labels(\"\", \"Total_Cost (g)\")\n",
    "g.legend.set_title(\"\")"
   ]
  },
  {
   "cell_type": "code",
   "execution_count": null,
   "id": "a9f54787",
   "metadata": {},
   "outputs": [],
   "source": [
    "import seaborn as sns\n",
    "sns.set_theme(style=\"ticks\", palette=\"pastel\")\n",
    "\n",
    "# Load the example tips dataset\n",
    "df_lunch = df_filtered[df_filtered['Description'].str.contains(\"COAT\")] \n",
    "sns.set_theme(style=\"darkgrid\")\n",
    "sns.displot(\n",
    "    df_lunch, x=\"Total_Cost\", col=\"Description\", row=\"Country\",\n",
    "    binwidth=3, height=3, facet_kws=dict(margin_titles=True),\n",
    ")"
   ]
  },
  {
   "cell_type": "code",
   "execution_count": null,
   "id": "a72ee926",
   "metadata": {},
   "outputs": [],
   "source": [
    "sns.set_theme(style=\"darkgrid\")\n",
    "\n",
    "g = sns.jointplot(x=\"Total_Cost\", y=\"UnitPrice\", data=df_lunch,\n",
    "                  kind=\"reg\", truncate=False,\n",
    "                  xlim=(0, 60), ylim=(0, 12),\n",
    "                  color=\"m\", height=7)"
   ]
  },
  {
   "cell_type": "code",
   "execution_count": null,
   "id": "0d4167b2",
   "metadata": {},
   "outputs": [],
   "source": [
    "import seaborn as sns\n",
    "import matplotlib.pyplot as plt\n",
    "\n",
    "sns.set_theme(style=\"ticks\")\n",
    "\n",
    "# Initialize a grid of plots with an Axes for each walk\n",
    "grid = sns.FacetGrid(df_lunch, col=\"Description\", hue=\"Description\", palette=\"tab20c\",\n",
    "                     col_wrap=4, height=1.5)\n",
    "\n",
    "# Draw a horizontal line to show the starting point\n",
    "grid.refline(y=0, linestyle=\":\")\n",
    "\n",
    "# Draw a line plot to show the trajectory of each random walk\n",
    "#grid.map(plt.plot, \"step\", \"position\", marker=\"o\")\n",
    "\n",
    "# Adjust the tick positions and labels\n",
    "grid.set(xticks=np.arange(5), yticks=[-3, 3],\n",
    "         xlim=(-.5, 4.5), ylim=(-3.5, 3.5))\n",
    "\n",
    "# Adjust the arrangement of the plots\n",
    "grid.fig.tight_layout(w_pad=1)"
   ]
  },
  {
   "cell_type": "code",
   "execution_count": null,
   "id": "0b1333d7",
   "metadata": {},
   "outputs": [],
   "source": [
    "import seaborn as sns\n",
    "sns.set_theme(style=\"whitegrid\")\n",
    "#df_sales_reversal = df_sales_reversal.groupby(['Description','Country'])\n",
    "df_sales_reversal\n",
    "df_sales_reversal['Quantity'] = df_sales_reversal['Quantity'] * -1\n",
    "df_sales_reversal_top_category = df_sales_reversal.sort_values('Quantity', ascending=False)\n",
    "df_sales_reversal_top_category_display = df_sales_reversal_top_category.head(20)\n"
   ]
  },
  {
   "cell_type": "code",
   "execution_count": null,
   "id": "1c969685",
   "metadata": {},
   "outputs": [],
   "source": [
    "#Sales reversals by category and country\n",
    "df_sales_reversal_top_category_display.shape\n",
    "df_sales_reversal_top_category_display\n",
    "# Draw a nested barplot by category and country\n",
    "sns.barplot(data=df_sales_reversal_top_category_display,x ='Quantity',y= 'Description',hue='Country')"
   ]
  },
  {
   "cell_type": "code",
   "execution_count": null,
   "id": "154355d0",
   "metadata": {
    "scrolled": false
   },
   "outputs": [],
   "source": [
    "# Inspect how the unit price of T-LIGHT might have trended over time\n",
    "df_t_light = df_filtered[df_filtered['Description'].str.contains(\"T-LIGHT\")] \n",
    "#define figure size\n",
    "sns.set(rc={\"figure.figsize\":(12, 4)}) #width=8, height=4\n",
    "sns.lineplot(data=df_t_light, x=\"InvoiceYearMonth\", y=\"UnitPrice\", markers=True, dashes=False)\n"
   ]
  },
  {
   "cell_type": "code",
   "execution_count": null,
   "id": "4a83d9fa",
   "metadata": {},
   "outputs": [],
   "source": [
    "df_filtered['Hour'] = df_filtered['InvoiceDate'].dt.hour\n",
    "df_t_light"
   ]
  },
  {
   "cell_type": "code",
   "execution_count": null,
   "id": "b1d3d30b",
   "metadata": {},
   "outputs": [],
   "source": [
    "#inspect when most of the products are sold \n",
    "sns.set(rc={\"figure.figsize\":(12, 4)}) #width=8, height=4\n",
    "sns.lineplot(data=df_filtered, x=\"Hour\", y=\"Quantity\", markers=True, dashes=False)"
   ]
  },
  {
   "cell_type": "code",
   "execution_count": null,
   "id": "560a39bd",
   "metadata": {},
   "outputs": [],
   "source": [
    "# what products are sold together \n",
    "df_duplicate = df_filtered[df_filtered['InvoiceNo'].duplicated(keep=False)]\n",
    "df_duplicate['product_bundle'] = df_duplicate.groupby('InvoiceNo')['Description'].transform(lambda x:','.join(x))\n",
    "df_duplicate = df_duplicate[['InvoiceNo','product_bundle']].drop_duplicates()\n",
    "df_duplicate.shape"
   ]
  },
  {
   "cell_type": "code",
   "execution_count": null,
   "id": "ea0f9c0f",
   "metadata": {},
   "outputs": [],
   "source": [
    "df_duplicate\n",
    "from itertools import combinations\n",
    "from collections import Counter\n",
    "count = Counter()\n",
    "for row in df_duplicate['product_bundle'].head(10000):\n",
    "    row_list = row.split(',')\n",
    "    #print(row_list)\n",
    "    count.update(Counter(combinations(row_list,2)))\n",
    "count.most_common(20)"
   ]
  },
  {
   "cell_type": "code",
   "execution_count": null,
   "id": "5e55d56a",
   "metadata": {},
   "outputs": [],
   "source": [
    "df_saucer = df_duplicate[df_duplicate['product_bundle'].str.contains(\"SAUCER\")] \n",
    "for row in df_saucer['product_bundle'].head(100):\n",
    "    row_list = row.split(',')\n",
    "    #print(row_list)\n",
    "    count.update(Counter(combinations(row_list,2)))\n",
    "count.most_common(20)"
   ]
  },
  {
   "cell_type": "code",
   "execution_count": null,
   "id": "79ac2f88",
   "metadata": {},
   "outputs": [],
   "source": [
    "df_coffee = df_duplicate[df_duplicate['product_bundle'].str.contains(\"COFFEE\")] \n",
    "for row in df_coffee['product_bundle'].head(100):\n",
    "    row_list = row.split(',')\n",
    "    #print(row_list)\n",
    "    count.update(Counter(combinations(row_list,2)))\n",
    "count.most_common(20)"
   ]
  },
  {
   "cell_type": "code",
   "execution_count": null,
   "id": "aa2735e5",
   "metadata": {},
   "outputs": [],
   "source": []
  },
  {
   "cell_type": "code",
   "execution_count": null,
   "id": "ed631bcb",
   "metadata": {},
   "outputs": [],
   "source": []
  },
  {
   "cell_type": "code",
   "execution_count": null,
   "id": "81f9a63b",
   "metadata": {},
   "outputs": [],
   "source": []
  },
  {
   "cell_type": "code",
   "execution_count": null,
   "id": "c1f9368e",
   "metadata": {},
   "outputs": [],
   "source": []
  }
 ],
 "metadata": {
  "kernelspec": {
   "display_name": "Python 3 (ipykernel)",
   "language": "python",
   "name": "python3"
  },
  "language_info": {
   "codemirror_mode": {
    "name": "ipython",
    "version": 3
   },
   "file_extension": ".py",
   "mimetype": "text/x-python",
   "name": "python",
   "nbconvert_exporter": "python",
   "pygments_lexer": "ipython3",
   "version": "3.9.7"
  }
 },
 "nbformat": 4,
 "nbformat_minor": 5
}
